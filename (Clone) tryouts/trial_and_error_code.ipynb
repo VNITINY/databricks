{
 "cells": [
  {
   "cell_type": "code",
   "execution_count": 0,
   "metadata": {
    "application/vnd.databricks.v1+cell": {
     "cellMetadata": {
      "byteLimit": 2048000,
      "rowLimit": 10000
     },
     "inputWidgets": {},
     "nuid": "3b91a136-3ed7-476a-84b4-82bd4f667ee4",
     "showTitle": false,
     "tableResultSettingsMap": {},
     "title": ""
    }
   },
   "outputs": [],
   "source": [
    "--do not run this example of exception\n",
    "df_CSV= spark.sql(\"select * from tryout1.bronze.ElectricVehicle union all (select VIN_1_10|| '1', County || 'tk', City || 'tk', State || 'tk', Postal_Code, Model_Year, Make, Model, Electric_Vehicle_Type,Clean_Alternative_Fuel_Vehicle_CAFV_Eligibility, Electric_Range,Base_MSRP, Legislative_District,DOL_Vehicle_ID,Vehicle_Location,Electric_Utility,2020_Census_Tract from databricks_demo.electricvehicle_info_p98204 Limit 3 )\")\n",
    "# this should be like below\n",
    "df_CSV= spark.sql(\"select * from tryout1.bronze.ElectricVehicle\"\n",
    "\"union all\"\n",
    "\"(select VIN_1_10|| '1', County || 'tk', City || 'tk', State || 'tk', Postal_Code, Model_Year,\"\n",
    "\"Make, Model, Electric_Vehicle_Type,Clean_Alternative_Fuel_Vehicle_CAFV_Eligibility, Electric_Range,\"\n",
    "\"Base_MSRP, Legislative_District,DOL_Vehicle_ID,Vehicle_Location,Electric_Utility,\"\n",
    "\"2020_Census_Tract from databricks_demo.electricvehicle_info_p98204 Limit 3 )\")\n"
   ]
  },
  {
   "cell_type": "code",
   "execution_count": 0,
   "metadata": {
    "application/vnd.databricks.v1+cell": {
     "cellMetadata": {},
     "inputWidgets": {},
     "nuid": "c70e3223-aa4f-4330-9ac6-2851271bcddb",
     "showTitle": false,
     "tableResultSettingsMap": {},
     "title": ""
    }
   },
   "outputs": [],
   "source": [
    "%sql\n",
    "drop table if exists tryout1.silver.Electric_Vehicle_Population_Data;\n",
    "drop table if exists tryout1.bronze.stg_Electric_Vehicle_Population_Data;"
   ]
  }
 ],
 "metadata": {
  "application/vnd.databricks.v1+notebook": {
   "computePreferences": null,
   "dashboards": [],
   "environmentMetadata": {
    "base_environment": "",
    "environment_version": "2"
   },
   "inputWidgetPreferences": null,
   "language": "python",
   "notebookMetadata": {
    "pythonIndentUnit": 4
   },
   "notebookName": "trial_and_error_code",
   "widgets": {}
  },
  "language_info": {
   "name": "python"
  }
 },
 "nbformat": 4,
 "nbformat_minor": 0
}
