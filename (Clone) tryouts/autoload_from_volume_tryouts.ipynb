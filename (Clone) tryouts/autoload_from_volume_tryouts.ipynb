{
 "cells": [
  {
   "cell_type": "code",
   "execution_count": 0,
   "metadata": {
    "application/vnd.databricks.v1+cell": {
     "cellMetadata": {},
     "inputWidgets": {},
     "nuid": "062288ca-bc50-43f6-949c-055f436dfb5f",
     "showTitle": false,
     "tableResultSettingsMap": {},
     "title": ""
    }
   },
   "outputs": [],
   "source": [
    "spark.sql(\"create volume if not exists csv_files\")\n",
    "#this will create volume in default catalog, schema/db example workspace(catalog)/default(schema/db)/csv_files(volume)\\\n",
    "\n",
    "#after creating volume now you can add file to this volume by following steps\n",
    "#NEw->add or upload data->upload files to a volume -> select file same window below select volume by selecting your catalog/schema or db/volume upload once upload done you can see the files volume.\n",
    "\n",
    "# to ensure run below code\n",
    "dbutils.fs.ls(\"/Volumes/workspace/default/csv_files/\")"
   ]
  },
  {
   "cell_type": "code",
   "execution_count": 0,
   "metadata": {
    "application/vnd.databricks.v1+cell": {
     "cellMetadata": {
      "byteLimit": 2048000,
      "rowLimit": 10000
     },
     "inputWidgets": {},
     "nuid": "cff9707c-76d6-4e8d-881f-1351d25cf5a2",
     "showTitle": false,
     "tableResultSettingsMap": {},
     "title": ""
    }
   },
   "outputs": [],
   "source": [
    "from pyspark.sql.functions import *\n",
    "from delta.tables import DeltaTable\n",
    "\n",
    "df_elec = spark.read.csv(\"/Volumes/workspace/default/csv_files/*.csv\",header=True,inferSchema=True)"
   ]
  },
  {
   "cell_type": "code",
   "execution_count": 0,
   "metadata": {
    "application/vnd.databricks.v1+cell": {
     "cellMetadata": {
      "byteLimit": 2048000,
      "rowLimit": 10000
     },
     "inputWidgets": {},
     "nuid": "965b0b16-c966-464a-8762-af2cda2fa0ee",
     "showTitle": false,
     "tableResultSettingsMap": {},
     "title": ""
    }
   },
   "outputs": [],
   "source": [
    "df_elec.printSchema()"
   ]
  },
  {
   "cell_type": "code",
   "execution_count": 0,
   "metadata": {
    "application/vnd.databricks.v1+cell": {
     "cellMetadata": {
      "byteLimit": 2048000,
      "rowLimit": 10000
     },
     "inputWidgets": {},
     "nuid": "eee69e6f-ddc6-4f6a-99e4-8dca08c47e4e",
     "showTitle": false,
     "tableResultSettingsMap": {},
     "title": ""
    }
   },
   "outputs": [],
   "source": [
    "clnd_col = [i.replace(\" \",\"_\").replace(\"-\",\"_\").replace(\"(\",\"\").replace(\")\",\"\") for i in df_elec.columns]\n",
    "df_elec = df_elec.toDF(*clnd_col)\n",
    "df_elec = df_elec.withColumn(\"Created_at\", current_timestamp() ).withColumn(\"Modified_at\", lit(None).cast(\"timestamp\"))\n",
    "to_fltr_timestamp = df_elec.select(\"Created_at\").first()[\"Created_at\"]\n",
    "df_elec.write.format(\"delta\").mode(\"append\").saveAsTable(\"tryout1.bronze.stg_Electric_Vehicle_Population_Data\")"
   ]
  },
  {
   "cell_type": "code",
   "execution_count": 0,
   "metadata": {
    "application/vnd.databricks.v1+cell": {
     "cellMetadata": {
      "byteLimit": 2048000,
      "rowLimit": 10000
     },
     "inputWidgets": {},
     "nuid": "4c34c47d-1ac9-4398-90dc-55cc8d5cc803",
     "showTitle": false,
     "tableResultSettingsMap": {},
     "title": ""
    }
   },
   "outputs": [],
   "source": [
    "\n",
    "# print(to_fltr_timestamp)\n",
    "# print(df_elec.select(\"Created_at\").first()[\"Created_at\"])\n",
    "# df_elec.display()"
   ]
  },
  {
   "cell_type": "code",
   "execution_count": 0,
   "metadata": {
    "application/vnd.databricks.v1+cell": {
     "cellMetadata": {
      "byteLimit": 2048000,
      "rowLimit": 10000
     },
     "inputWidgets": {},
     "nuid": "0828b0d4-0d4a-4223-b1bd-41b77c93bc46",
     "showTitle": false,
     "tableResultSettingsMap": {},
     "title": ""
    }
   },
   "outputs": [],
   "source": [
    "df_elec.printSchema()"
   ]
  },
  {
   "cell_type": "code",
   "execution_count": 0,
   "metadata": {
    "application/vnd.databricks.v1+cell": {
     "cellMetadata": {
      "byteLimit": 2048000,
      "implicitDf": true,
      "rowLimit": 10000
     },
     "inputWidgets": {},
     "nuid": "a085bd31-b0bb-46a4-ade1-1a643360bd4b",
     "showTitle": false,
     "tableResultSettingsMap": {},
     "title": ""
    }
   },
   "outputs": [],
   "source": [
    "%sql\n",
    "-- select * from tryout1.bronze.Electric_Vehicle_Population_Data"
   ]
  },
  {
   "cell_type": "code",
   "execution_count": 0,
   "metadata": {
    "application/vnd.databricks.v1+cell": {
     "cellMetadata": {
      "byteLimit": 2048000,
      "rowLimit": 10000
     },
     "inputWidgets": {},
     "nuid": "8404a001-bc67-4e1e-88b8-8fe617c3247e",
     "showTitle": false,
     "tableResultSettingsMap": {},
     "title": ""
    }
   },
   "outputs": [],
   "source": [
    "# replacing micro seconds\n",
    "# max_ts = read_tbl_src.select(max(col(\"Created_at\"))).collect()[0][0].replace(microsecond=0)\n",
    "# print(max_ts)"
   ]
  },
  {
   "cell_type": "code",
   "execution_count": 0,
   "metadata": {
    "application/vnd.databricks.v1+cell": {
     "cellMetadata": {
      "byteLimit": 2048000,
      "rowLimit": 10000
     },
     "inputWidgets": {},
     "nuid": "d41f81c3-e0bd-4826-9f05-f4eb2c2eed1b",
     "showTitle": false,
     "tableResultSettingsMap": {},
     "title": ""
    }
   },
   "outputs": [],
   "source": [
    "read_tbl_src = spark.read.table(\"tryout1.bronze.stg_Electric_Vehicle_Population_Data\")\n",
    "# to_fltr_timestamp = read_tbl_src.select(to_timestamp(max(col(\"Created_at\")), 'yyyy-MM-dd HH:mm:ss')).collect()[0][0]\n",
    "# print(read_tbl_src.count(),to_fltr_timestamp)\n",
    "# read_tbl_src = read_tbl_src.where(to_timestamp(col(\"Created_at\"), 'yyyy-MM-dd HH:mm:ss')==lit(to_fltr_timestamp))\n",
    "print(read_tbl_src.count())\n",
    "# read_tbl_src.display()"
   ]
  },
  {
   "cell_type": "code",
   "execution_count": 0,
   "metadata": {
    "application/vnd.databricks.v1+cell": {
     "cellMetadata": {
      "byteLimit": 2048000,
      "rowLimit": 10000
     },
     "inputWidgets": {},
     "nuid": "419ba39b-584e-4b0b-9954-aa07079af368",
     "showTitle": false,
     "tableResultSettingsMap": {},
     "title": ""
    }
   },
   "outputs": [],
   "source": [
    "# print(read_tbl_src.count())\n",
    "# read_tbl_src.display()"
   ]
  },
  {
   "cell_type": "code",
   "execution_count": 0,
   "metadata": {
    "application/vnd.databricks.v1+cell": {
     "cellMetadata": {
      "byteLimit": 2048000,
      "rowLimit": 10000
     },
     "inputWidgets": {},
     "nuid": "e6034658-2676-44e5-b589-3c74049b28d9",
     "showTitle": false,
     "tableResultSettingsMap": {},
     "title": ""
    }
   },
   "outputs": [],
   "source": [
    "# read_tbl_src.agg(count('*')).display()\n",
    "\n",
    "# incr_data = spark.sql(\"\"\"select concat(VIN_1_10, '1') as VIN_1_10, concat(County, 'tk') as County, concat(City, 'tk') as City, concat(State, 'tk') as State,Postal_Code, Model_Year, Make, Model, Electric_Vehicle_Type,Clean_Alternative_Fuel_Vehicle_CAFV_Eligibility, Electric_Range,Base_MSRP,Legislative_District,DOL_Vehicle_ID+1::int as DOL_Vehicle_ID,Vehicle_Location,Electric_Utility,2020_Census_Tract,now() as Created_at, null as Modified_at from tryout1.bronze.stg_Electric_Vehicle_Population_Data where DOL_Vehicle_ID in (347724772,272165288,203182584) limit 3\"\"\")\n",
    "\n",
    "# incr_data.printSchema()\n",
    "# read_tbl_src = read_tbl_src.union(incr_data)"
   ]
  },
  {
   "cell_type": "code",
   "execution_count": 0,
   "metadata": {
    "application/vnd.databricks.v1+cell": {
     "cellMetadata": {
      "byteLimit": 2048000,
      "rowLimit": 10000
     },
     "inputWidgets": {},
     "nuid": "71a7a379-aed2-4c45-9fe9-9a17cf8de398",
     "showTitle": false,
     "tableResultSettingsMap": {},
     "title": ""
    }
   },
   "outputs": [],
   "source": [
    "print(read_tbl_src.printSchema(), incr_data.printSchema())"
   ]
  },
  {
   "cell_type": "code",
   "execution_count": 0,
   "metadata": {
    "application/vnd.databricks.v1+cell": {
     "cellMetadata": {
      "byteLimit": 2048000,
      "rowLimit": 10000
     },
     "inputWidgets": {},
     "nuid": "fe74c485-011f-49fd-b6d9-2c380fa2553b",
     "showTitle": false,
     "tableResultSettingsMap": {},
     "title": ""
    }
   },
   "outputs": [],
   "source": [
    "# src_cols = set(read_tbl_src.columns)\n",
    "# # print(src_cols,list(src_cols))\n",
    "# # for col in list(src_cols):\n",
    "# #     if col not in [\"Created_at\"]:\n",
    "# #         print({col:f\"src.{col}\"})\n",
    "# update_expr = {col:f\"src.{col}\" for col in list(src_cols) if col not in [\"Created_at\"]}\n",
    "# insert_expr = {col:f\"src.{col}\" for col in list(src_cols) if col not in [\"Modified_at\"]}\n",
    "# print(update_expr,insert_expr)"
   ]
  },
  {
   "cell_type": "code",
   "execution_count": 0,
   "metadata": {
    "application/vnd.databricks.v1+cell": {
     "cellMetadata": {
      "byteLimit": 2048000,
      "rowLimit": 10000
     },
     "inputWidgets": {},
     "nuid": "2c0ebc22-0ded-4fd5-9d1f-aef34753071d",
     "showTitle": false,
     "tableResultSettingsMap": {},
     "title": ""
    }
   },
   "outputs": [],
   "source": [
    "table_name = \"tryout1.silver.Electric_Vehicle_Population_Data\"\n",
    "\n",
    "src_cols = set(read_tbl_src.columns)\n",
    "update_expr = {col:f\"src.{col}\" for col in list(src_cols) if col not in [\"Created_at\",\"Modified_at\"]}\n",
    "insert_expr = {col:f\"src.{col}\" for col in list(src_cols)}\n",
    "update_expr[\"Modified_at\"]= \"current_timestamp()\"\n",
    "# print(\"Update:\", update_expr, \"insert: \", insert_expr)\n",
    "\n",
    "#for now we will not use merge condition\n",
    "merge_condition = f\"{' OR '.join([f'src.{col} != tgt.{col}' for col in src_cols if col not in ['Created_at', 'Modified_at']])}\"\n",
    "print(merge_condition)\n",
    "\n",
    "if not spark.catalog.tableExists(table_name):\n",
    "    read_tbl_src.write.format(\"delta\").mode(\"append\").saveAsTable(table_name)\n",
    "elif spark.catalog.tableExists(table_name):\n",
    "    tgt_cols = set(read_tbl_src.columns)\n",
    "    if src_cols != tgt_cols:\n",
    "        print(f\"Column mismatch: source={src_cols}, target={tgt_cols}\")\n",
    "        (\n",
    "        read_tbl_src.alias(\"src\")\n",
    "        .write\n",
    "        .format(\"delta\")\n",
    "        .mode(\"append\")\n",
    "        .option(\"mergeSchema\", \"true\")\n",
    "        .saveAsTable(table_name)\n",
    "        )\n",
    "    target_data = DeltaTable.forName(spark,table_name)\n",
    "    target_data.alias(\"tgt\").merge(\n",
    "        read_tbl_src.alias(\"src\"),\"src.DOL_Vehicle_ID = tgt.DOL_Vehicle_ID\"\n",
    "        ).whenMatchedUpdate(\n",
    "            condition=merge_condition,\n",
    "            set=update_expr\n",
    "            ).whenNotMatchedInsert(values=insert_expr).execute()\n",
    "#.whenMatchedUpdateAll().whenNotMatchedInsertAll()"
   ]
  },
  {
   "cell_type": "code",
   "execution_count": 0,
   "metadata": {
    "application/vnd.databricks.v1+cell": {
     "cellMetadata": {
      "byteLimit": 2048000,
      "rowLimit": 10000
     },
     "inputWidgets": {},
     "nuid": "9a39ccc3-6d3e-4980-a0e1-8ec373595667",
     "showTitle": false,
     "tableResultSettingsMap": {},
     "title": ""
    }
   },
   "outputs": [],
   "source": [
    "# %python\n",
    "# table_name = \"tryout1.silver.Electric_Vehicle_Population_Data\"\n",
    "\n",
    "# src_cols = set(read_tbl_src.columns)\n",
    "# update_expr = {col: f\"cast(src.{col} as {read_tbl_src.schema[col].dataType})\" for col in list(src_cols) if col not in [\"Created_at\", \"Modified_at\"]}\n",
    "# insert_expr = {col: f\"cast(src.{col} as {read_tbl_src.schema[col].dataType})\" for col in list(src_cols)}\n",
    "# update_expr[\"Modified_at\"] = \"current_timestamp()\"\n",
    "# print(\"Update:\", update_expr, \"insert: \", insert_expr)\n",
    "\n",
    "# if not spark.catalog.tableExists(table_name):\n",
    "#     read_tbl_src.write.format(\"delta\").mode(\"append\").saveAsTable(table_name)\n",
    "# elif spark.catalog.tableExists(table_name):\n",
    "#     tgt_cols = set(read_tbl_src.columns)\n",
    "#     if src_cols != tgt_cols:\n",
    "#         print(f\"Column mismatch: source={src_cols}, target={tgt_cols}\")\n",
    "#         (\n",
    "#             read_tbl_src.alias(\"src\")\n",
    "#             .write\n",
    "#             .format(\"delta\")\n",
    "#             .mode(\"append\")\n",
    "#             .option(\"mergeSchema\", \"true\")\n",
    "#             .saveAsTable(table_name)\n",
    "#         )\n",
    "#     target_data = DeltaTable.forName(spark, table_name)\n",
    "#     print(target_data.toDF().printSchema())\n",
    "#     target_data.alias(\"tgt\").merge(\n",
    "#         read_tbl_src.alias(\"src\"), \"src.DOL_Vehicle_ID = tgt.DOL_Vehicle_ID\"\n",
    "#     ).whenMatchedUpdate(\n",
    "#         condition=\"src.Modified_at > tgt.Modified_at\",\n",
    "#         set=update_expr\n",
    "#     ).whenNotMatchedInsert(\n",
    "#         values=insert_expr\n",
    "#     ).execute()"
   ]
  },
  {
   "cell_type": "code",
   "execution_count": 0,
   "metadata": {
    "application/vnd.databricks.v1+cell": {
     "cellMetadata": {
      "byteLimit": 2048000,
      "rowLimit": 10000
     },
     "inputWidgets": {},
     "nuid": "b7b76ff4-35ba-4ac8-91d8-8fce04afaef9",
     "showTitle": false,
     "tableResultSettingsMap": {},
     "title": ""
    }
   },
   "outputs": [],
   "source": [
    "update_expr[\"Modified_at\"]= \"current_timestamp()\"\n",
    "print(update_expr)\n",
    "print({\"modified_at\": current_timestamp()})"
   ]
  },
  {
   "cell_type": "code",
   "execution_count": 0,
   "metadata": {
    "application/vnd.databricks.v1+cell": {
     "cellMetadata": {
      "byteLimit": 2048000,
      "implicitDf": true,
      "rowLimit": 10000
     },
     "inputWidgets": {},
     "nuid": "8cc1af8f-a52f-48c8-9faf-16e1527a05a7",
     "showTitle": false,
     "tableResultSettingsMap": {},
     "title": ""
    }
   },
   "outputs": [],
   "source": [
    "%sql\n",
    "select count(1) from tryout1.bronze.stg_Electric_Vehicle_Population_Data\n",
    "union all\n",
    "select count(1) from tryout1.silver.Electric_Vehicle_Population_Data;"
   ]
  },
  {
   "cell_type": "code",
   "execution_count": 0,
   "metadata": {
    "application/vnd.databricks.v1+cell": {
     "cellMetadata": {
      "byteLimit": 2048000,
      "implicitDf": true,
      "rowLimit": 10000
     },
     "inputWidgets": {},
     "nuid": "ecf2e93a-05bb-4ba2-a059-f110c1c01116",
     "showTitle": false,
     "tableResultSettingsMap": {},
     "title": ""
    }
   },
   "outputs": [],
   "source": [
    "%sql\n",
    "-- select * from tryout1.silver.Electric_Vehicle_Population_Data;"
   ]
  },
  {
   "cell_type": "code",
   "execution_count": 0,
   "metadata": {
    "application/vnd.databricks.v1+cell": {
     "cellMetadata": {
      "byteLimit": 2048000,
      "implicitDf": true,
      "rowLimit": 10000
     },
     "inputWidgets": {},
     "nuid": "9fc8ea4f-7e83-4c64-bdc1-4a4914d443e7",
     "showTitle": false,
     "tableResultSettingsMap": {},
     "title": ""
    }
   },
   "outputs": [],
   "source": [
    "%sql\n",
    "-- drop table if exists tryout1.silver.Electric_Vehicle_Population_Data;\n",
    "-- drop table if exists tryout1.bronze.stg_Electric_Vehicle_Population_Data;"
   ]
  }
 ],
 "metadata": {
  "application/vnd.databricks.v1+notebook": {
   "computePreferences": null,
   "dashboards": [],
   "environmentMetadata": {
    "base_environment": "",
    "environment_version": "2"
   },
   "inputWidgetPreferences": null,
   "language": "python",
   "notebookMetadata": {
    "mostRecentlyExecutedCommandWithImplicitDF": {
     "commandId": 7740716071547281,
     "dataframes": [
      "_sqldf"
     ]
    },
    "pythonIndentUnit": 4
   },
   "notebookName": "autoload_from_volume_tryouts",
   "widgets": {}
  },
  "language_info": {
   "name": "python"
  }
 },
 "nbformat": 4,
 "nbformat_minor": 0
}
